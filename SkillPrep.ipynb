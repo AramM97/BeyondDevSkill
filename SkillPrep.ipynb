{
 "cells": [
  {
   "cell_type": "markdown",
   "id": "df546220",
   "metadata": {},
   "source": [
    "<h2>Arrays and Strings</h2>"
   ]
  },
  {
   "cell_type": "code",
   "execution_count": 32,
   "id": "135085d1",
   "metadata": {},
   "outputs": [],
   "source": [
    "s1 = \"string\""
   ]
  },
  {
   "cell_type": "code",
   "execution_count": 33,
   "id": "a53bcfd6",
   "metadata": {},
   "outputs": [],
   "source": [
    "#Write a program to reverse a string in place\n",
    "def reverseString(s):\n",
    "    return(s[::-1])"
   ]
  },
  {
   "cell_type": "code",
   "execution_count": 34,
   "id": "80f5eb93",
   "metadata": {},
   "outputs": [
    {
     "name": "stdout",
     "output_type": "stream",
     "text": [
      "gnirts\n"
     ]
    }
   ],
   "source": [
    "print(reverseString(s1))"
   ]
  },
  {
   "cell_type": "code",
   "execution_count": 35,
   "id": "26304fe8",
   "metadata": {},
   "outputs": [],
   "source": [
    "#Write a program to find the maximum and minimum elements in an array.\n",
    "def findMinMax(arr):\n",
    "    return(min(arr),max(arr))"
   ]
  },
  {
   "cell_type": "code",
   "execution_count": 36,
   "id": "8091a7ba",
   "metadata": {},
   "outputs": [
    {
     "name": "stdout",
     "output_type": "stream",
     "text": [
      "(1, 50)\n"
     ]
    }
   ],
   "source": [
    "arr = [1,3,4,9,10,30,50]\n",
    "\n",
    "print(findMinMax(arr))"
   ]
  },
  {
   "cell_type": "code",
   "execution_count": 37,
   "id": "411dc801",
   "metadata": {},
   "outputs": [],
   "source": [
    "#Write a program to remove duplicates from a sorted array\n",
    "def removeDup(arr):\n",
    "    return set(arr)"
   ]
  },
  {
   "cell_type": "code",
   "execution_count": 38,
   "id": "3fbe184f",
   "metadata": {},
   "outputs": [
    {
     "name": "stdout",
     "output_type": "stream",
     "text": [
      "{1, 3, 4, 9, 10, 50, 30}\n"
     ]
    }
   ],
   "source": [
    "arr2 = [1,3,4,9,10,30,50,50,1,1]\n",
    "print(removeDup(arr2))"
   ]
  },
  {
   "cell_type": "markdown",
   "id": "b9a70e85",
   "metadata": {},
   "source": [
    "<h2>Linked Lists</h2>"
   ]
  },
  {
   "cell_type": "code",
   "execution_count": 39,
   "id": "3524489f",
   "metadata": {},
   "outputs": [],
   "source": [
    "class Node: \n",
    "    # Constructor to initialize the node object \n",
    "    def __init__(self, data): \n",
    "        self.data = data \n",
    "        self.next = None\n",
    "  \n",
    "  \n",
    "class LinkedList: \n",
    "    # Function to initialize head \n",
    "    def __init__(self): \n",
    "        self.head = None\n",
    "        \n",
    "    # Function to insert a new node at the beginning \n",
    "    def push(self, new_data): \n",
    "        new_node = Node(new_data) \n",
    "        new_node.next = self.head \n",
    "        self.head = new_node\n",
    "    \n",
    "    # Utility function to print the LinkedList \n",
    "    def printList(self): \n",
    "        temp = self.head \n",
    "        while(temp): \n",
    "            print (temp.data,end=\" \") \n",
    "            temp = temp.next"
   ]
  },
  {
   "cell_type": "code",
   "execution_count": 40,
   "id": "714c3dc7",
   "metadata": {},
   "outputs": [],
   "source": [
    "#traverse the linked list and \"reverse\" the pointer in each step \n",
    "# 1 -> 2 -> 3 -> 4 \n",
    "# 1 <- 2 -> 3 -> 4\n",
    "# 1 <- 2 <- 3 -> 4\n",
    "#....etc\n",
    "\n",
    "def reverseLinkedList(linkL):\n",
    "    previous = None\n",
    "    curr = linkL.head\n",
    "    while(curr is not None):\n",
    "        next = curr.next\n",
    "        curr.next = prev\n",
    "        curr = next\n",
    "    linkL.head = prev"
   ]
  },
  {
   "cell_type": "code",
   "execution_count": 41,
   "id": "1ea2a137",
   "metadata": {},
   "outputs": [],
   "source": [
    "#two pointers first one moves one step and second moves two steps the second will reach the end while the first will be\n",
    "#at the middle\n",
    "def findmiddle(linkL):\n",
    "    first = linkL.head\n",
    "    second =linkL.head\n",
    "    \n",
    "    while(second and second.next):\n",
    "        first = first.next\n",
    "        second = second.next.next\n",
    "    return first.data"
   ]
  },
  {
   "cell_type": "code",
   "execution_count": 42,
   "id": "6fdbe7ac",
   "metadata": {},
   "outputs": [],
   "source": [
    "#two pointers one moves one step the other moves two steps if they meet it means the list has a loop\n",
    "def findLoop(linkL):\n",
    "    first = linkL.head\n",
    "    second = linkL.head\n",
    "    while(first and second and second.next):\n",
    "        #move one step\n",
    "        first = first.next\n",
    "        #two steps \n",
    "        second = second.next.next\n",
    "        #check if they meet\n",
    "        if(first == second):\n",
    "            return 1\n",
    "    return 0\n",
    "            "
   ]
  },
  {
   "cell_type": "code",
   "execution_count": null,
   "id": "119928ce",
   "metadata": {},
   "outputs": [],
   "source": []
  },
  {
   "cell_type": "markdown",
   "id": "6c6ff2a3",
   "metadata": {},
   "source": [
    "<h2>Stacks and Queues:</h2>"
   ]
  },
  {
   "cell_type": "code",
   "execution_count": 43,
   "id": "a40e8164",
   "metadata": {},
   "outputs": [],
   "source": [
    "class Stack:\n",
    "\n",
    "    def __init__(self):\n",
    "        self.elements = []\n",
    "\n",
    "    def push(self, item):\n",
    "        self.elements.append(item)\n",
    "\n",
    "    def pop(self):\n",
    "        return self.elements.pop()\n",
    "\n",
    "    def size(self):\n",
    "        return len(self.elements)\n",
    "\n",
    "    def is_empty(self):\n",
    "        return self.size() == 0\n"
   ]
  },
  {
   "cell_type": "code",
   "execution_count": null,
   "id": "7c4a9038",
   "metadata": {},
   "outputs": [],
   "source": []
  },
  {
   "cell_type": "code",
   "execution_count": 44,
   "id": "c24ffd7d",
   "metadata": {},
   "outputs": [],
   "source": [
    "#Implement a stack using two queues.\n",
    "from _collections import deque\n",
    " \n",
    "\n",
    "class CreatingStackWithTwoQueues:\n",
    " \n",
    "    def __init__(self):\n",
    " \n",
    "        # Two inbuilt queues\n",
    "        self.q1 = deque()\n",
    "        self.q2 = deque()\n",
    " \n",
    "    def push(self, x):\n",
    " \n",
    "        # Push x first in empty q2\n",
    "        self.q2.append(x)\n",
    " \n",
    "        # Push all the remaining\n",
    "        # elements in q1 to q2.\n",
    "        while (self.q1):\n",
    "            self.q2.append(self.q1.popleft())\n",
    " \n",
    "        # swap the names of two queues\n",
    "        self.q1, self.q2 = self.q2, self.q1\n",
    " \n",
    "    def pop(self):\n",
    " \n",
    "        # if no elements are there in q1\n",
    "        if self.q1:\n",
    "            self.q1.popleft()\n",
    " \n",
    "    def top(self):\n",
    "        if (self.q1):\n",
    "            return self.q1[0]\n",
    "        return None\n",
    " \n",
    "    def size(self):\n",
    "        return len(self.q1)"
   ]
  },
  {
   "cell_type": "code",
   "execution_count": 45,
   "id": "1dfc56de",
   "metadata": {},
   "outputs": [],
   "source": [
    "#Implement a queue using two stacks.\n",
    "class CreatingQueueWithTwoStacks:\n",
    "\n",
    "    def __init__(self):\n",
    "        self.stack_1 = Stack()\n",
    "        self.stack_2 = Stack()\n",
    "\n",
    "    def enqueue(self, item):\n",
    "        self.stack_1.push(item)\n",
    "\n",
    "    def dequeue(self):\n",
    "        if not self.stack_1.is_empty():\n",
    "            while self.stack_1.size() > 0:\n",
    "                self.stack_2.push(self.stack_1.pop())\n",
    "            res = self.stack_2.pop()\n",
    "            while self.stack_2.size() > 0:\n",
    "                self.stack_1.push(self.stack_2.pop())\n",
    "            return res"
   ]
  },
  {
   "cell_type": "code",
   "execution_count": 46,
   "id": "72148422",
   "metadata": {},
   "outputs": [],
   "source": [
    "#Write a program to check if a given string of parentheses is balanced.\n",
    "def is_balanced_parentheses(input_string):\n",
    "    stack = Stack()\n",
    "\n",
    "    for char in input_string:\n",
    "        if char in '({[':\n",
    "            stack.push(char)\n",
    "        elif char in ')}]':\n",
    "            if stack.is_empty():\n",
    "                return False\n",
    "            top_element = stack.pop()\n",
    "            if not is_matching_parentheses(top_element, char):\n",
    "                return False\n",
    "\n",
    "    return stack.is_empty()\n",
    "\n",
    "def is_matching_parentheses(opening, closing):\n",
    "    # Helper function to check if the opening and closing parentheses match\n",
    "    return (opening == '(' and closing == ')') or \\\n",
    "           (opening == '{' and closing == '}') or \\\n",
    "           (opening == '[' and closing == ']')\n",
    "\n"
   ]
  },
  {
   "cell_type": "code",
   "execution_count": null,
   "id": "183b0a9c",
   "metadata": {},
   "outputs": [],
   "source": []
  },
  {
   "cell_type": "code",
   "execution_count": null,
   "id": "7b1dc6d4",
   "metadata": {},
   "outputs": [],
   "source": []
  },
  {
   "cell_type": "markdown",
   "id": "da5688ad",
   "metadata": {},
   "source": [
    "<h2>Trees and Graphs</h2>"
   ]
  },
  {
   "cell_type": "code",
   "execution_count": 47,
   "id": "b7a1e7b6",
   "metadata": {},
   "outputs": [],
   "source": [
    "class TreeNode:\n",
    "    \n",
    "    def __init__(self, x):\n",
    "        self.val = x\n",
    "        self.left = None\n",
    "        self.right = None"
   ]
  },
  {
   "cell_type": "code",
   "execution_count": 48,
   "id": "268ae565",
   "metadata": {},
   "outputs": [],
   "source": [
    "def findPath(root, path, k):\n",
    "    if root is None:\n",
    "        return False\n",
    " \n",
    "    path.append(root.key)\n",
    " \n",
    "    if root.key == k:\n",
    "        return True\n",
    "\n",
    "    if ((root.left != None and findPath(root.left, path, k)) or\n",
    "            (root.right != None and findPath(root.right, path, k))):\n",
    "        return True\n",
    " \n",
    "    path.pop()\n",
    "    return False"
   ]
  },
  {
   "cell_type": "code",
   "execution_count": 49,
   "id": "5ba93175",
   "metadata": {},
   "outputs": [],
   "source": [
    "def lca(root, num1, num2):\n",
    "    path1 = []\n",
    "    path2 = []\n",
    "    \n",
    "    if(not findpath(root,path1, num1) or not findpath(root, path2, n2)): \n",
    "        return -1\n",
    "    \n",
    "    i = 0\n",
    "    while(i < len(path1) and i < len(path2) ):\n",
    "        if path1[i] != path2[i]:\n",
    "            break\n",
    "        i += 1\n",
    "    return path1[i-1]"
   ]
  },
  {
   "cell_type": "code",
   "execution_count": 50,
   "id": "578e7c8b",
   "metadata": {},
   "outputs": [],
   "source": [
    "def shortest_path(root, target1, target2):\n",
    "    if not root:\n",
    "        return None\n",
    "\n",
    "    queue = deque([(root, [])])\n",
    "\n",
    "    while queue:\n",
    "        current_node, current_path = queue.popleft()\n",
    "\n",
    "        if current_node.val == target1:\n",
    "            # Found the first target node\n",
    "            return current_path + [target1]\n",
    "\n",
    "        if current_node.val == target2:\n",
    "            # Found the second target node\n",
    "            return current_path + [target2]\n",
    "\n",
    "        if current_node.left:\n",
    "            queue.append((current_node.left, current_path + [current_node.val]))\n",
    "\n",
    "        if current_node.right:\n",
    "            queue.append((current_node.right, current_path + [current_node.val]))\n",
    "\n",
    "    return None"
   ]
  },
  {
   "cell_type": "code",
   "execution_count": 51,
   "id": "71636b31",
   "metadata": {},
   "outputs": [
    {
     "name": "stdout",
     "output_type": "stream",
     "text": [
      "Shortest path between 4 and 7: [1, 2, 4]\n"
     ]
    }
   ],
   "source": [
    "root = TreeNode(1)\n",
    "root.left = TreeNode(2)\n",
    "root.right = TreeNode(3)\n",
    "root.left.left = TreeNode(4)\n",
    "root.left.right = TreeNode(5)\n",
    "root.right.left = TreeNode(6)\n",
    "root.right.right = TreeNode(7)\n",
    "\n",
    "target1 = 4\n",
    "target2 = 7\n",
    "\n",
    "path = shortest_path(root, target1, target2)\n",
    "\n",
    "if path:\n",
    "    print(f\"Shortest path between {target1} and {target2}: {path}\")\n",
    "else:\n",
    "    print(f\"No path found between {target1} and {target2}\")"
   ]
  },
  {
   "cell_type": "code",
   "execution_count": 52,
   "id": "288f22cb",
   "metadata": {},
   "outputs": [],
   "source": [
    "class BinarySearchTree:\n",
    "    def __init__(self):\n",
    "        self.root = None\n",
    "\n",
    "    def insert(self, value):\n",
    "        self.root = self._insert(self.root, value)\n",
    "\n",
    "    def _insert(self, root, value):\n",
    "        if root is None:\n",
    "            return TreeNode(value)\n",
    "        if value < root.val:\n",
    "            root.left = self._insert(root.left, value)\n",
    "        else:\n",
    "            root.right = self._insert(root.right, value)\n",
    "        return root\n",
    "\n",
    "    def delete(self, value):\n",
    "        self.root = self._delete(self.root, value)\n",
    "\n",
    "    def _delete(self, root, value):\n",
    "        if root is None:\n",
    "            return root\n",
    "\n",
    "        if value < root.val:\n",
    "            root.left = self._delete(root.left, value)\n",
    "        elif value > root.val:\n",
    "            root.right = self._delete(root.right, value)\n",
    "        else:\n",
    "            # Node with only one child or no child\n",
    "            if root.left is None:\n",
    "                return root.right\n",
    "            elif root.right is None:\n",
    "                return root.left\n",
    "\n",
    "            # Node with two children\n",
    "            root.val = self._min_value_node(root.right).val\n",
    "            root.right = self._delete(root.right, root.val)\n",
    "\n",
    "        return root\n",
    "\n",
    "    def _min_value_node(self, node):\n",
    "        current = node\n",
    "        while current.left is not None:\n",
    "            current = current.left\n",
    "        return current\n",
    "\n",
    "    def search(self, value):\n",
    "        return self._search(self.root, value)\n",
    "\n",
    "    def _search(self, root, value):\n",
    "        if root is None or root.val == value:\n",
    "            return root\n",
    "        if value < root.val:\n",
    "            return self._search(root.left, value)\n",
    "        return self._search(root.right, value)\n",
    "\n",
    "    def inorder_traversal(self):\n",
    "        result = []\n",
    "        self._inorder_traversal(self.root, result)\n",
    "        return result\n",
    "\n",
    "    def _inorder_traversal(self, root, result):\n",
    "        if root:\n",
    "            self._inorder_traversal(root.left, result)\n",
    "            result.append(root.val)\n",
    "            self._inorder_traversal(root.right, result)"
   ]
  },
  {
   "cell_type": "code",
   "execution_count": 53,
   "id": "e7870e74",
   "metadata": {},
   "outputs": [
    {
     "name": "stdout",
     "output_type": "stream",
     "text": [
      "Inorder traversal: [20, 30, 40, 50, 60, 70, 80]\n",
      "Search for 40: Found\n",
      "Deleted node with value 30. Inorder traversal: [20, 40, 50, 60, 70, 80]\n"
     ]
    }
   ],
   "source": [
    "bst = BinarySearchTree()\n",
    "elements = [50, 30, 20, 40, 70, 60, 80]\n",
    "\n",
    "for element in elements:\n",
    "    bst.insert(element)\n",
    "\n",
    "print(\"Inorder traversal:\", bst.inorder_traversal())\n",
    "\n",
    "search_value = 40\n",
    "search_result = bst.search(search_value)\n",
    "print(f\"Search for {search_value}: {'Found' if search_result else 'Not Found'}\")\n",
    "\n",
    "delete_value = 30\n",
    "bst.delete(delete_value)\n",
    "print(f\"Deleted node with value {delete_value}. Inorder traversal:\", bst.inorder_traversal())"
   ]
  },
  {
   "cell_type": "markdown",
   "id": "a5134ca6",
   "metadata": {},
   "source": [
    "<h2>Sorting Algorithms</h2>"
   ]
  },
  {
   "cell_type": "code",
   "execution_count": 54,
   "id": "1a0ae059",
   "metadata": {},
   "outputs": [],
   "source": [
    "#Implement the bubble sort algorithm\n",
    "def bubbleSort(arr):\n",
    "    swap = True\n",
    "    for i in range(len(arr) - 1):\n",
    "        for j in range(0, len(arr)-i-1):\n",
    "            if(arr[j] > arr[j+1]):\n",
    "                swap = True\n",
    "                arr[j],arr[j+1] = arr[j+1], arr[j]\n",
    "        if not swap:\n",
    "            return arr\n",
    "    return arr"
   ]
  },
  {
   "cell_type": "code",
   "execution_count": 55,
   "id": "4c78f958",
   "metadata": {},
   "outputs": [],
   "source": [
    "#Implement the merge sort algorithm\n",
    "def merge_sort(arr):\n",
    "    if len(arr) <= 1:\n",
    "        return arr\n",
    "\n",
    "    # Split the array into two halves\n",
    "    mid = len(arr) // 2\n",
    "    left_half = arr[:mid]\n",
    "    right_half = arr[mid:]\n",
    "\n",
    "    # Recursive call to sort each half\n",
    "    left_half = merge_sort(left_half)\n",
    "    right_half = merge_sort(right_half)\n",
    "\n",
    "    # Merge the sorted halves\n",
    "    return merge(left_half, right_half)\n",
    "\n",
    "def merge(left, right):\n",
    "    result = []\n",
    "    left_index = right_index = 0\n",
    "\n",
    "    while left_index < len(left) and right_index < len(right):\n",
    "        if left[left_index] < right[right_index]:\n",
    "            result.append(left[left_index])\n",
    "            left_index += 1\n",
    "        else:\n",
    "            result.append(right[right_index])\n",
    "            right_index += 1\n",
    "\n",
    "    # Append the remaining elements from both lists (if any)\n",
    "    result.extend(left[left_index:])\n",
    "    result.extend(right[right_index:])\n",
    "\n",
    "    return result\n",
    "    "
   ]
  },
  {
   "cell_type": "code",
   "execution_count": 56,
   "id": "e667ed08",
   "metadata": {},
   "outputs": [],
   "source": [
    "def quick_sort(arr):\n",
    "    if len(arr) <= 1:\n",
    "        return arr\n",
    "\n",
    "    pivot = arr[len(arr) // 2]\n",
    "    left = [x for x in arr if x < pivot]\n",
    "    middle = [x for x in arr if x == pivot]\n",
    "    right = [x for x in arr if x > pivot]\n",
    "\n",
    "    return quick_sort(left) + middle + quick_sort(right)"
   ]
  },
  {
   "cell_type": "code",
   "execution_count": null,
   "id": "21a3e130",
   "metadata": {},
   "outputs": [],
   "source": []
  },
  {
   "cell_type": "code",
   "execution_count": null,
   "id": "8bafb935",
   "metadata": {},
   "outputs": [],
   "source": []
  },
  {
   "cell_type": "markdown",
   "id": "6110287c",
   "metadata": {},
   "source": [
    "<h2>Searching Algorithms</h2>"
   ]
  },
  {
   "cell_type": "code",
   "execution_count": 57,
   "id": "f95f31bd",
   "metadata": {},
   "outputs": [],
   "source": [
    "#Implement the linear search algorithm\n",
    "def linearSearch(arr, find):\n",
    "    for i in arr:\n",
    "        if(i == find):\n",
    "            return arr.index(i)\n",
    "    return -1"
   ]
  },
  {
   "cell_type": "code",
   "execution_count": 58,
   "id": "7cd21e48",
   "metadata": {},
   "outputs": [],
   "source": [
    "def binarySearch(arr, find):\n",
    "    low = 0\n",
    "    high = len(arr) - 1\n",
    "    mid = 0\n",
    " \n",
    "    while low <= high:\n",
    "        mid = (high + low) // 2\n",
    "        #find is greater,check on right side\n",
    "        if arr[mid] < find:\n",
    "            low = mid + 1\n",
    "        #find is smaller,check on left side\n",
    "        elif arr[mid] > find:\n",
    "            high = mid - 1\n",
    "        else:\n",
    "            return mid\n",
    "        \n",
    "    return -1"
   ]
  },
  {
   "cell_type": "code",
   "execution_count": 59,
   "id": "944f20cc",
   "metadata": {},
   "outputs": [
    {
     "name": "stdout",
     "output_type": "stream",
     "text": [
      "6\n"
     ]
    }
   ],
   "source": [
    "searchArr = [1,2,3,4,5,6,7,8]\n",
    "print(linearSearch(searchArr,7))"
   ]
  },
  {
   "cell_type": "code",
   "execution_count": 60,
   "id": "17c3d252",
   "metadata": {},
   "outputs": [
    {
     "name": "stdout",
     "output_type": "stream",
     "text": [
      "6\n"
     ]
    }
   ],
   "source": [
    "print(binarySearch(searchArr,7))"
   ]
  },
  {
   "cell_type": "markdown",
   "id": "e269e740",
   "metadata": {},
   "source": [
    "<h2>Recursion</h2>"
   ]
  },
  {
   "cell_type": "code",
   "execution_count": 61,
   "id": "04bd8de6",
   "metadata": {},
   "outputs": [],
   "source": [
    "#Write a program to calculate the factorial of a number using recursion\n",
    "def factorial(num):\n",
    "    if(num < 0):\n",
    "        print('please choose a positive number')\n",
    "    elif(num == 1 or num == 0):\n",
    "        return 1\n",
    "    else:\n",
    "        return num * factorial(num-1)"
   ]
  },
  {
   "cell_type": "code",
   "execution_count": 62,
   "id": "e97fcda8",
   "metadata": {},
   "outputs": [
    {
     "data": {
      "text/plain": [
       "24"
      ]
     },
     "execution_count": 62,
     "metadata": {},
     "output_type": "execute_result"
    }
   ],
   "source": [
    "factorial(4)"
   ]
  },
  {
   "cell_type": "code",
   "execution_count": 63,
   "id": "66aeecee",
   "metadata": {},
   "outputs": [],
   "source": [
    "def toString(List): \n",
    "    return ''.join(List) "
   ]
  },
  {
   "cell_type": "code",
   "execution_count": 64,
   "id": "cb02d223",
   "metadata": {},
   "outputs": [],
   "source": [
    "def permute(string, start, end): \n",
    "    if start == end: \n",
    "        print(toString(string)) \n",
    "    else: \n",
    "        for i in range(start, end): \n",
    "            string[start], string[i] = string[i], string[start] \n",
    "            permute(string, start+1, end) \n",
    "            string[start], string[i] = string[i], string[start]  # backtrack \n",
    "  "
   ]
  },
  {
   "cell_type": "code",
   "execution_count": 65,
   "id": "b10d79be",
   "metadata": {},
   "outputs": [
    {
     "name": "stdout",
     "output_type": "stream",
     "text": [
      "ABC\n",
      "ACB\n",
      "BAC\n",
      "BCA\n",
      "CBA\n",
      "CAB\n"
     ]
    }
   ],
   "source": [
    "testArr = 'ABC'\n",
    "permute(list(testArr),0,len(testArr))"
   ]
  },
  {
   "cell_type": "code",
   "execution_count": null,
   "id": "486dcaad",
   "metadata": {},
   "outputs": [],
   "source": []
  },
  {
   "cell_type": "markdown",
   "id": "891dae3f",
   "metadata": {},
   "source": [
    "<h2>Hash Tables</h2>"
   ]
  },
  {
   "cell_type": "code",
   "execution_count": 66,
   "id": "eea3a47d",
   "metadata": {},
   "outputs": [],
   "source": [
    "class HashTable:\n",
    "    def __init__(self, size):\n",
    "        self.size = size\n",
    "        self.table = [None] * size\n",
    "\n",
    "    def hash_function(self, key):\n",
    "        return hash(key) % self.size\n",
    "\n",
    "    def insert(self, key, value):\n",
    "        index = self.hash_function(key)\n",
    "        if self.table[index] is None:\n",
    "            self.table[index] = [(key, value)]\n",
    "        else:\n",
    "            for i, (existing_key, _) in enumerate(self.table[index]):\n",
    "                if existing_key == key:\n",
    "                    # If key already exists, update the value\n",
    "                    self.table[index][i] = (key, value)\n",
    "                    break\n",
    "            else:\n",
    "                # If key doesn't exist, append a new key-value pair\n",
    "                self.table[index].append((key, value))\n",
    "\n",
    "    def delete(self, key):\n",
    "        index = self.hash_function(key)\n",
    "        if self.table[index] is not None:\n",
    "            for i, (existing_key, _) in enumerate(self.table[index]):\n",
    "                if existing_key == key:\n",
    "                    del self.table[index][i]\n",
    "                    break\n",
    "\n",
    "    def search(self, key):\n",
    "        index = self.hash_function(key)\n",
    "        if self.table[index] is not None:\n",
    "            for existing_key, value in self.table[index]:\n",
    "                if existing_key == key:\n",
    "                    return value\n",
    "        return None"
   ]
  },
  {
   "cell_type": "code",
   "execution_count": null,
   "id": "a6b22b33",
   "metadata": {},
   "outputs": [],
   "source": []
  },
  {
   "cell_type": "markdown",
   "id": "f6ec3be6",
   "metadata": {},
   "source": [
    "<h2>Bit Manipulation</h2>"
   ]
  },
  {
   "cell_type": "code",
   "execution_count": 67,
   "id": "ee92c282",
   "metadata": {},
   "outputs": [],
   "source": [
    "#Write a program to check if a given number is even or odd using bit manipulation.\n",
    "#add check if the number is positive\n",
    "def isEvenBit(num):\n",
    "    if(num & 1 == 1):\n",
    "        print('number is Odd')\n",
    "    else:\n",
    "        print('number is Even')\n",
    "    return"
   ]
  },
  {
   "cell_type": "code",
   "execution_count": 68,
   "id": "3c929888",
   "metadata": {},
   "outputs": [
    {
     "name": "stdout",
     "output_type": "stream",
     "text": [
      "number is Odd\n",
      "number is Even\n"
     ]
    }
   ],
   "source": [
    "isEvenBit(5)\n",
    "isEvenBit(4)"
   ]
  },
  {
   "cell_type": "code",
   "execution_count": 69,
   "id": "bc0e5c62",
   "metadata": {},
   "outputs": [],
   "source": [
    "#Write a program to find the number of set bits in a given integer using bit manipulation.\n",
    "#calc number of 1 in the bin represintation\n",
    "def count_set_bits(num):\n",
    "    count = 0\n",
    "    while num:\n",
    "        num &= (num - 1)\n",
    "        count += 1\n",
    "    return count\n"
   ]
  },
  {
   "cell_type": "code",
   "execution_count": 70,
   "id": "48db2b8d",
   "metadata": {},
   "outputs": [
    {
     "name": "stdout",
     "output_type": "stream",
     "text": [
      "The number of set bits in 25 is: 3\n"
     ]
    }
   ],
   "source": [
    "number = 25\n",
    "result = count_set_bits(number)\n",
    "print(f\"The number of set bits in {number} is: {result}\")"
   ]
  },
  {
   "cell_type": "code",
   "execution_count": null,
   "id": "54cf80e9",
   "metadata": {},
   "outputs": [],
   "source": []
  },
  {
   "cell_type": "markdown",
   "id": "3fe9d212",
   "metadata": {},
   "source": [
    "<h2>Big O Notation and Time Complexity Analysis</h2>"
   ]
  },
  {
   "cell_type": "markdown",
   "id": "e872f708",
   "metadata": {},
   "source": [
    "<p>\n",
    "Bubble Sort:\n",
    "\n",
    "Best Case: O(n)<br>\n",
    "Average Case: O(n^2)<br>\n",
    "Worst Case: O(n^2)<br>\n",
    "<br>\n",
    "Merge Sort:\n",
    "\n",
    "Best Case: O(n log n)<br>\n",
    "Average Case: O(n log n)<br>\n",
    "Worst Case: O(n log n)<br>\n",
    "<br>QuickSort:<br>\n",
    "\n",
    "Best Case: O(n log n)<br>\n",
    "Average Case: O(n log n)<br>\n",
    "Worst Case: O(n^2)<br>\n",
    "</p>"
   ]
  },
  {
   "cell_type": "markdown",
   "id": "e0068017",
   "metadata": {},
   "source": [
    "<p>\n",
    "Factorial Calculation:<br>\n",
    "    <t>O(n)<br>\n",
    "String Permutation:<br>\n",
    "    <t>O(n)\n",
    "</p>"
   ]
  },
  {
   "cell_type": "code",
   "execution_count": 71,
   "id": "d4708cae",
   "metadata": {},
   "outputs": [],
   "source": [
    "class Logger:\n",
    "    _instance = None\n",
    "\n",
    "    def __new__(cls):\n",
    "        if not cls._instance:\n",
    "            cls._instance = super(Logger, cls).__new__(cls)\n",
    "            # Initialize the logger here (e.g., configure logging settings)\n",
    "            cls._instance.log_file = \"web_app_log.txt\"\n",
    "        return cls._instance\n",
    "\n",
    "    def log_message(self, message):\n",
    "        with open(self.log_file, \"a\") as log_file:\n",
    "            log_file.write(message + \"\\n\")"
   ]
  },
  {
   "cell_type": "code",
   "execution_count": 72,
   "id": "f36bf633",
   "metadata": {},
   "outputs": [
    {
     "name": "stdout",
     "output_type": "stream",
     "text": [
      "Are both instances the same object? True\n"
     ]
    }
   ],
   "source": [
    "logger_instance1 = Logger()\n",
    "logger_instance2 = Logger()\n",
    "\n",
    "print(\"Are both instances the same object?\", logger_instance1 is logger_instance2)\n",
    "\n",
    "# Log messages using the singleton logger\n",
    "logger_instance1.log_message(\"Log message 1 from instance 1\")\n",
    "logger_instance2.log_message(\"Log message 2 from instance 2\")"
   ]
  },
  {
   "cell_type": "code",
   "execution_count": null,
   "id": "285d4195",
   "metadata": {},
   "outputs": [],
   "source": []
  },
  {
   "cell_type": "code",
   "execution_count": null,
   "id": "278e6ebb",
   "metadata": {},
   "outputs": [],
   "source": []
  }
 ],
 "metadata": {
  "kernelspec": {
   "display_name": "Python 3",
   "language": "python",
   "name": "python3"
  },
  "language_info": {
   "codemirror_mode": {
    "name": "ipython",
    "version": 3
   },
   "file_extension": ".py",
   "mimetype": "text/x-python",
   "name": "python",
   "nbconvert_exporter": "python",
   "pygments_lexer": "ipython3",
   "version": "3.8.8"
  }
 },
 "nbformat": 4,
 "nbformat_minor": 5
}
